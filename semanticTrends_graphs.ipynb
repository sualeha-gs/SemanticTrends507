{
  "nbformat": 4,
  "nbformat_minor": 0,
  "metadata": {
    "colab": {
      "provenance": []
    },
    "kernelspec": {
      "name": "python3",
      "display_name": "Python 3"
    },
    "language_info": {
      "name": "python"
    }
  },
  "cells": [
    {
      "cell_type": "markdown",
      "source": [
        "## 507 Final Project\n",
        "### *Language in Flux: Temporal Semantic Change on Social Media*\n",
        "Sualeha Farid (sualeha)"
      ],
      "metadata": {
        "id": "geNKvlV0kjrj"
      }
    },
    {
      "cell_type": "markdown",
      "source": [
        "Setup"
      ],
      "metadata": {
        "id": "s5-Gl0CyE_o1"
      }
    },
    {
      "cell_type": "code",
      "source": [
        "import nltk\n",
        "nltk.download('punkt')\n",
        "nltk.download('punkt_tab')\n",
        "nltk.download('stopwords')"
      ],
      "metadata": {
        "colab": {
          "base_uri": "https://localhost:8080/"
        },
        "id": "iNYvqPvemlop",
        "outputId": "2956d60c-b3c8-4086-baa5-21f174bb37e5"
      },
      "execution_count": 2,
      "outputs": [
        {
          "output_type": "stream",
          "name": "stderr",
          "text": [
            "[nltk_data] Downloading package punkt to /root/nltk_data...\n",
            "[nltk_data]   Unzipping tokenizers/punkt.zip.\n",
            "[nltk_data] Downloading package punkt_tab to /root/nltk_data...\n",
            "[nltk_data]   Unzipping tokenizers/punkt_tab.zip.\n",
            "[nltk_data] Downloading package stopwords to /root/nltk_data...\n",
            "[nltk_data]   Unzipping corpora/stopwords.zip.\n"
          ]
        },
        {
          "output_type": "execute_result",
          "data": {
            "text/plain": [
              "True"
            ]
          },
          "metadata": {},
          "execution_count": 2
        }
      ]
    },
    {
      "cell_type": "code",
      "source": [
        "pip install --upgrade numpy gensim --force-reinstall"
      ],
      "metadata": {
        "id": "tsiE8fqHm01z",
        "colab": {
          "base_uri": "https://localhost:8080/",
          "height": 864
        },
        "outputId": "f9d6c304-fc05-45a3-b291-86313491b12f"
      },
      "execution_count": 6,
      "outputs": [
        {
          "output_type": "stream",
          "name": "stdout",
          "text": [
            "Collecting numpy\n",
            "  Using cached numpy-2.2.5-cp311-cp311-manylinux_2_17_x86_64.manylinux2014_x86_64.whl.metadata (62 kB)\n",
            "Collecting gensim\n",
            "  Using cached gensim-4.3.3-cp311-cp311-manylinux_2_17_x86_64.manylinux2014_x86_64.whl.metadata (8.1 kB)\n",
            "Collecting numpy\n",
            "  Using cached numpy-1.26.4-cp311-cp311-manylinux_2_17_x86_64.manylinux2014_x86_64.whl.metadata (61 kB)\n",
            "Collecting scipy<1.14.0,>=1.7.0 (from gensim)\n",
            "  Using cached scipy-1.13.1-cp311-cp311-manylinux_2_17_x86_64.manylinux2014_x86_64.whl.metadata (60 kB)\n",
            "Collecting smart-open>=1.8.1 (from gensim)\n",
            "  Using cached smart_open-7.1.0-py3-none-any.whl.metadata (24 kB)\n",
            "Collecting wrapt (from smart-open>=1.8.1->gensim)\n",
            "  Using cached wrapt-1.17.2-cp311-cp311-manylinux_2_5_x86_64.manylinux1_x86_64.manylinux_2_17_x86_64.manylinux2014_x86_64.whl.metadata (6.4 kB)\n",
            "Using cached gensim-4.3.3-cp311-cp311-manylinux_2_17_x86_64.manylinux2014_x86_64.whl (26.7 MB)\n",
            "Using cached numpy-1.26.4-cp311-cp311-manylinux_2_17_x86_64.manylinux2014_x86_64.whl (18.3 MB)\n",
            "Using cached scipy-1.13.1-cp311-cp311-manylinux_2_17_x86_64.manylinux2014_x86_64.whl (38.6 MB)\n",
            "Using cached smart_open-7.1.0-py3-none-any.whl (61 kB)\n",
            "Using cached wrapt-1.17.2-cp311-cp311-manylinux_2_5_x86_64.manylinux1_x86_64.manylinux_2_17_x86_64.manylinux2014_x86_64.whl (83 kB)\n",
            "Installing collected packages: wrapt, numpy, smart-open, scipy, gensim\n",
            "  Attempting uninstall: wrapt\n",
            "    Found existing installation: wrapt 1.17.2\n",
            "    Uninstalling wrapt-1.17.2:\n",
            "      Successfully uninstalled wrapt-1.17.2\n",
            "  Attempting uninstall: numpy\n",
            "    Found existing installation: numpy 1.26.4\n",
            "    Uninstalling numpy-1.26.4:\n",
            "      Successfully uninstalled numpy-1.26.4\n",
            "  Attempting uninstall: smart-open\n",
            "    Found existing installation: smart-open 7.1.0\n",
            "    Uninstalling smart-open-7.1.0:\n",
            "      Successfully uninstalled smart-open-7.1.0\n",
            "  Attempting uninstall: scipy\n",
            "    Found existing installation: scipy 1.13.1\n",
            "    Uninstalling scipy-1.13.1:\n",
            "      Successfully uninstalled scipy-1.13.1\n",
            "  Attempting uninstall: gensim\n",
            "    Found existing installation: gensim 4.3.3\n",
            "    Uninstalling gensim-4.3.3:\n",
            "      Successfully uninstalled gensim-4.3.3\n",
            "\u001b[31mERROR: pip's dependency resolver does not currently take into account all the packages that are installed. This behaviour is the source of the following dependency conflicts.\n",
            "thinc 8.3.6 requires numpy<3.0.0,>=2.0.0, but you have numpy 1.26.4 which is incompatible.\u001b[0m\u001b[31m\n",
            "\u001b[0mSuccessfully installed gensim-4.3.3 numpy-1.26.4 scipy-1.13.1 smart-open-7.1.0 wrapt-1.17.2\n"
          ]
        },
        {
          "output_type": "display_data",
          "data": {
            "application/vnd.colab-display-data+json": {
              "pip_warning": {
                "packages": [
                  "smart_open",
                  "wrapt"
                ]
              },
              "id": "457caa6bad22498b93ca9c0e44353dd6"
            }
          },
          "metadata": {}
        }
      ]
    },
    {
      "cell_type": "code",
      "source": [
        "# imports\n",
        "import argparse\n",
        "import pandas as pd\n",
        "import networkx as nx\n",
        "from collections import defaultdict\n",
        "from itertools import combinations\n",
        "import re\n",
        "import random\n",
        "from nltk.corpus import stopwords\n",
        "from nltk.tokenize import word_tokenize\n",
        "from gensim.models import KeyedVectors\n",
        "import gensim.downloader as api\n",
        "from tqdm import tqdm\n",
        "import matplotlib.pyplot as plt\n",
        "from networkx.algorithms.community import greedy_modularity_communities\n",
        "import spacy"
      ],
      "metadata": {
        "id": "lc0LTanvko1d"
      },
      "execution_count": 1,
      "outputs": []
    },
    {
      "cell_type": "code",
      "source": [
        "# get stop word list for pre-processing\n",
        "stop_words = set(stopwords.words('english'))\n",
        "\n",
        "# for lemmatizer\n",
        "nlp = spacy.load(\"en_core_web_sm\")\n",
        "\n",
        "# load model using api for embeddings\n",
        "model = api.load(\"glove-twitter-200\")"
      ],
      "metadata": {
        "id": "65wO469xnTRf",
        "colab": {
          "base_uri": "https://localhost:8080/"
        },
        "outputId": "2def51dc-8465-4768-fcbd-3f7210a01f06"
      },
      "execution_count": 2,
      "outputs": [
        {
          "output_type": "stream",
          "name": "stdout",
          "text": [
            "[==================================================] 100.0% 758.5/758.5MB downloaded\n"
          ]
        }
      ]
    },
    {
      "cell_type": "markdown",
      "source": [
        "Functions for re-processing and building the graphs"
      ],
      "metadata": {
        "id": "xu566fVwFC7M"
      }
    },
    {
      "cell_type": "code",
      "source": [
        "def lemmatize_tweet(text):\n",
        "    \"\"\"Lemmatizes a tweet using the provided spacy NLP pipeline.\n",
        "\n",
        "    Args:\n",
        "        text (str): Raw tweet text\n",
        "\n",
        "    Returns:\n",
        "        str: A string of lemmatized words joined by space\n",
        "    \"\"\"\n",
        "    doc = nlp(text)\n",
        "    return \" \".join([token.lemma_ for token in doc])\n",
        "\n",
        "def preprocess_tweet(tweet):\n",
        "    \"\"\"Cleans and tokenizes tweet text with lemmatization and filtering.\n",
        "\n",
        "    Args:\n",
        "        tweet (str): Raw tweet text\n",
        "\n",
        "    Returns:\n",
        "        list[str]: List of cleaned, lemmatized, and filtered tokens\n",
        "    \"\"\"\n",
        "    tweet = tweet.lower()\n",
        "    tweet = re.sub(r\"http\\S+\", \"\", tweet)\n",
        "    tweet = re.sub(r\"@\\w+\", \"\", tweet)\n",
        "    tweet = re.sub(r\"[^\\w\\s]\", \"\", tweet)\n",
        "    tweet = lemmatize_tweet(tweet)\n",
        "    tokens = word_tokenize(tweet)\n",
        "    return [word for word in tokens if word.isalpha() and word in model and word not in stop_words]\n",
        "\n",
        "def build_embedding_graph_from_df(df, top_k=5, min_freq=10):\n",
        "    \"\"\"Constructs a semantic similarity graph using word embeddings from tweet data.\n",
        "\n",
        "    Args:\n",
        "        df (DataFrame): DataFrame containing a 'tweet' column\n",
        "        top_k (int): Number of nearest neighbors to link per word\n",
        "        min_freq (int): Minimum frequency for a word to be included in the graph\n",
        "\n",
        "    Returns:\n",
        "        networkx.Graph: Undirected graph where nodes are words and edges represent embedding similarity\n",
        "    \"\"\"\n",
        "    word_freq = defaultdict(int)\n",
        "    tokenized_tweets = []\n",
        "\n",
        "    for tweet in df['tweet']:\n",
        "        tokens = preprocess_tweet(tweet)\n",
        "        tokenized_tweets.append(tokens)\n",
        "        for word in tokens:\n",
        "            word_freq[word] += 1\n",
        "\n",
        "    vocab = {word for word, freq in word_freq.items() if freq >= min_freq}\n",
        "    G = nx.Graph()\n",
        "\n",
        "    for word in tqdm(vocab):\n",
        "        G.add_node(word, freq=word_freq[word])\n",
        "        try:\n",
        "            similar_words = model.most_similar(word, topn=top_k)\n",
        "            for neighbor, sim in similar_words:\n",
        "                if neighbor in vocab:\n",
        "                    G.add_edge(word, neighbor, weight=sim)\n",
        "        except KeyError:\n",
        "            continue\n",
        "\n",
        "    return G\n",
        "\n",
        "def build_cooccurrence_graph(df, min_freq=10):\n",
        "    \"\"\"Builds a word co-occurrence graph from tweets based on shared presence in a tweet.\n",
        "\n",
        "    Args:\n",
        "        df (DataFrame): DataFrame with a 'tweet' column\n",
        "        min_freq (int): Minimum word frequency to keep in graph\n",
        "\n",
        "    Returns:\n",
        "        networkx.Graph: Graph where nodes are words and edges are weighted by co-occurrence count\n",
        "    \"\"\"\n",
        "    G = nx.Graph()\n",
        "    word_counts = defaultdict(int)\n",
        "\n",
        "    for tweet in df['tweet']:\n",
        "        tokens = preprocess_tweet(tweet)\n",
        "        for w in tokens:\n",
        "            word_counts[w] += 1\n",
        "        for w1, w2 in combinations(set(tokens), 2):\n",
        "            if G.has_edge(w1, w2):\n",
        "                G[w1][w2]['weight'] += 1\n",
        "            else:\n",
        "                G.add_edge(w1, w2, weight=1)\n",
        "\n",
        "    rare_words = {w for w, count in word_counts.items() if count < min_freq}\n",
        "    G.remove_nodes_from(rare_words)\n",
        "    return G\n"
      ],
      "metadata": {
        "id": "GqqAb7hdnefX"
      },
      "execution_count": 12,
      "outputs": []
    },
    {
      "cell_type": "markdown",
      "source": [
        "Load data and create graphs"
      ],
      "metadata": {
        "id": "hXqup0ZmFLaN"
      }
    },
    {
      "cell_type": "code",
      "source": [
        "df = pd.read_csv('/content/twitter_sample_2015_2023.csv')\n",
        "\n",
        "# get years in a seperate column\n",
        "df.sample(10)\n",
        "df[\"year\"] = df.date.str[:4]\n",
        "df.year.value_counts() # to verify that i have 5000 tweets from each year.\n"
      ],
      "metadata": {
        "colab": {
          "base_uri": "https://localhost:8080/",
          "height": 397
        },
        "id": "_NOMvgRNrLzF",
        "outputId": "8de79787-d8c9-4b6b-a751-ad3f48561683"
      },
      "execution_count": 6,
      "outputs": [
        {
          "output_type": "execute_result",
          "data": {
            "text/plain": [
              "year\n",
              "2015    5000\n",
              "2016    5000\n",
              "2017    5000\n",
              "2018    5000\n",
              "2019    5000\n",
              "2020    5000\n",
              "2021    5000\n",
              "2022    5000\n",
              "2023    5000\n",
              "Name: count, dtype: int64"
            ],
            "text/html": [
              "<div>\n",
              "<style scoped>\n",
              "    .dataframe tbody tr th:only-of-type {\n",
              "        vertical-align: middle;\n",
              "    }\n",
              "\n",
              "    .dataframe tbody tr th {\n",
              "        vertical-align: top;\n",
              "    }\n",
              "\n",
              "    .dataframe thead th {\n",
              "        text-align: right;\n",
              "    }\n",
              "</style>\n",
              "<table border=\"1\" class=\"dataframe\">\n",
              "  <thead>\n",
              "    <tr style=\"text-align: right;\">\n",
              "      <th></th>\n",
              "      <th>count</th>\n",
              "    </tr>\n",
              "    <tr>\n",
              "      <th>year</th>\n",
              "      <th></th>\n",
              "    </tr>\n",
              "  </thead>\n",
              "  <tbody>\n",
              "    <tr>\n",
              "      <th>2015</th>\n",
              "      <td>5000</td>\n",
              "    </tr>\n",
              "    <tr>\n",
              "      <th>2016</th>\n",
              "      <td>5000</td>\n",
              "    </tr>\n",
              "    <tr>\n",
              "      <th>2017</th>\n",
              "      <td>5000</td>\n",
              "    </tr>\n",
              "    <tr>\n",
              "      <th>2018</th>\n",
              "      <td>5000</td>\n",
              "    </tr>\n",
              "    <tr>\n",
              "      <th>2019</th>\n",
              "      <td>5000</td>\n",
              "    </tr>\n",
              "    <tr>\n",
              "      <th>2020</th>\n",
              "      <td>5000</td>\n",
              "    </tr>\n",
              "    <tr>\n",
              "      <th>2021</th>\n",
              "      <td>5000</td>\n",
              "    </tr>\n",
              "    <tr>\n",
              "      <th>2022</th>\n",
              "      <td>5000</td>\n",
              "    </tr>\n",
              "    <tr>\n",
              "      <th>2023</th>\n",
              "      <td>5000</td>\n",
              "    </tr>\n",
              "  </tbody>\n",
              "</table>\n",
              "</div><br><label><b>dtype:</b> int64</label>"
            ]
          },
          "metadata": {},
          "execution_count": 6
        }
      ]
    },
    {
      "cell_type": "code",
      "source": [
        "df[df.year == \"2015\"].head()"
      ],
      "metadata": {
        "colab": {
          "base_uri": "https://localhost:8080/",
          "height": 206
        },
        "id": "Dj3QB7J4bx8H",
        "outputId": "6b1e860d-fae0-4255-c3de-392e46fc5db7"
      },
      "execution_count": 7,
      "outputs": [
        {
          "output_type": "execute_result",
          "data": {
            "text/plain": [
              "              user                  id  \\\n",
              "0  serenesuniverse  655822048908869632   \n",
              "1  serenesuniverse  646860876109213696   \n",
              "2  serenesuniverse  628640005523664896   \n",
              "3  serenesuniverse  623919450484572160   \n",
              "4  serenesuniverse  621761438097494016   \n",
              "\n",
              "                                               tweet  replies  retweets  \\\n",
              "0  Infinity Room at The Broad Museum: amazing ✨ h...        0         0   \n",
              "1  Meeting Fik-Shun last night was unreal! Being ...        0         0   \n",
              "2  Sakoma invites you to a celebration! Join us a...        0         0   \n",
              "3  You read that right! Get 20% off at http://t.c...        0         0   \n",
              "4  Spread the love! Get your waist beads today st...        0         0   \n",
              "\n",
              "   likes  quotes                       date  year  \n",
              "0      0       0  2015-10-18T19:05:35+00:00  2015  \n",
              "1      0       0  2015-09-24T01:37:05+00:00  2015  \n",
              "2      0       0  2015-08-04T18:53:51+00:00  2015  \n",
              "3      0       0  2015-07-22T18:16:03+00:00  2015  \n",
              "4      0       0  2015-07-16T19:20:53+00:00  2015  "
            ],
            "text/html": [
              "\n",
              "  <div id=\"df-35ed581f-9425-4597-bb11-938090bdb0e2\" class=\"colab-df-container\">\n",
              "    <div>\n",
              "<style scoped>\n",
              "    .dataframe tbody tr th:only-of-type {\n",
              "        vertical-align: middle;\n",
              "    }\n",
              "\n",
              "    .dataframe tbody tr th {\n",
              "        vertical-align: top;\n",
              "    }\n",
              "\n",
              "    .dataframe thead th {\n",
              "        text-align: right;\n",
              "    }\n",
              "</style>\n",
              "<table border=\"1\" class=\"dataframe\">\n",
              "  <thead>\n",
              "    <tr style=\"text-align: right;\">\n",
              "      <th></th>\n",
              "      <th>user</th>\n",
              "      <th>id</th>\n",
              "      <th>tweet</th>\n",
              "      <th>replies</th>\n",
              "      <th>retweets</th>\n",
              "      <th>likes</th>\n",
              "      <th>quotes</th>\n",
              "      <th>date</th>\n",
              "      <th>year</th>\n",
              "    </tr>\n",
              "  </thead>\n",
              "  <tbody>\n",
              "    <tr>\n",
              "      <th>0</th>\n",
              "      <td>serenesuniverse</td>\n",
              "      <td>655822048908869632</td>\n",
              "      <td>Infinity Room at The Broad Museum: amazing ✨ h...</td>\n",
              "      <td>0</td>\n",
              "      <td>0</td>\n",
              "      <td>0</td>\n",
              "      <td>0</td>\n",
              "      <td>2015-10-18T19:05:35+00:00</td>\n",
              "      <td>2015</td>\n",
              "    </tr>\n",
              "    <tr>\n",
              "      <th>1</th>\n",
              "      <td>serenesuniverse</td>\n",
              "      <td>646860876109213696</td>\n",
              "      <td>Meeting Fik-Shun last night was unreal! Being ...</td>\n",
              "      <td>0</td>\n",
              "      <td>0</td>\n",
              "      <td>0</td>\n",
              "      <td>0</td>\n",
              "      <td>2015-09-24T01:37:05+00:00</td>\n",
              "      <td>2015</td>\n",
              "    </tr>\n",
              "    <tr>\n",
              "      <th>2</th>\n",
              "      <td>serenesuniverse</td>\n",
              "      <td>628640005523664896</td>\n",
              "      <td>Sakoma invites you to a celebration! Join us a...</td>\n",
              "      <td>0</td>\n",
              "      <td>0</td>\n",
              "      <td>0</td>\n",
              "      <td>0</td>\n",
              "      <td>2015-08-04T18:53:51+00:00</td>\n",
              "      <td>2015</td>\n",
              "    </tr>\n",
              "    <tr>\n",
              "      <th>3</th>\n",
              "      <td>serenesuniverse</td>\n",
              "      <td>623919450484572160</td>\n",
              "      <td>You read that right! Get 20% off at http://t.c...</td>\n",
              "      <td>0</td>\n",
              "      <td>0</td>\n",
              "      <td>0</td>\n",
              "      <td>0</td>\n",
              "      <td>2015-07-22T18:16:03+00:00</td>\n",
              "      <td>2015</td>\n",
              "    </tr>\n",
              "    <tr>\n",
              "      <th>4</th>\n",
              "      <td>serenesuniverse</td>\n",
              "      <td>621761438097494016</td>\n",
              "      <td>Spread the love! Get your waist beads today st...</td>\n",
              "      <td>0</td>\n",
              "      <td>0</td>\n",
              "      <td>0</td>\n",
              "      <td>0</td>\n",
              "      <td>2015-07-16T19:20:53+00:00</td>\n",
              "      <td>2015</td>\n",
              "    </tr>\n",
              "  </tbody>\n",
              "</table>\n",
              "</div>\n",
              "    <div class=\"colab-df-buttons\">\n",
              "\n",
              "  <div class=\"colab-df-container\">\n",
              "    <button class=\"colab-df-convert\" onclick=\"convertToInteractive('df-35ed581f-9425-4597-bb11-938090bdb0e2')\"\n",
              "            title=\"Convert this dataframe to an interactive table.\"\n",
              "            style=\"display:none;\">\n",
              "\n",
              "  <svg xmlns=\"http://www.w3.org/2000/svg\" height=\"24px\" viewBox=\"0 -960 960 960\">\n",
              "    <path d=\"M120-120v-720h720v720H120Zm60-500h600v-160H180v160Zm220 220h160v-160H400v160Zm0 220h160v-160H400v160ZM180-400h160v-160H180v160Zm440 0h160v-160H620v160ZM180-180h160v-160H180v160Zm440 0h160v-160H620v160Z\"/>\n",
              "  </svg>\n",
              "    </button>\n",
              "\n",
              "  <style>\n",
              "    .colab-df-container {\n",
              "      display:flex;\n",
              "      gap: 12px;\n",
              "    }\n",
              "\n",
              "    .colab-df-convert {\n",
              "      background-color: #E8F0FE;\n",
              "      border: none;\n",
              "      border-radius: 50%;\n",
              "      cursor: pointer;\n",
              "      display: none;\n",
              "      fill: #1967D2;\n",
              "      height: 32px;\n",
              "      padding: 0 0 0 0;\n",
              "      width: 32px;\n",
              "    }\n",
              "\n",
              "    .colab-df-convert:hover {\n",
              "      background-color: #E2EBFA;\n",
              "      box-shadow: 0px 1px 2px rgba(60, 64, 67, 0.3), 0px 1px 3px 1px rgba(60, 64, 67, 0.15);\n",
              "      fill: #174EA6;\n",
              "    }\n",
              "\n",
              "    .colab-df-buttons div {\n",
              "      margin-bottom: 4px;\n",
              "    }\n",
              "\n",
              "    [theme=dark] .colab-df-convert {\n",
              "      background-color: #3B4455;\n",
              "      fill: #D2E3FC;\n",
              "    }\n",
              "\n",
              "    [theme=dark] .colab-df-convert:hover {\n",
              "      background-color: #434B5C;\n",
              "      box-shadow: 0px 1px 3px 1px rgba(0, 0, 0, 0.15);\n",
              "      filter: drop-shadow(0px 1px 2px rgba(0, 0, 0, 0.3));\n",
              "      fill: #FFFFFF;\n",
              "    }\n",
              "  </style>\n",
              "\n",
              "    <script>\n",
              "      const buttonEl =\n",
              "        document.querySelector('#df-35ed581f-9425-4597-bb11-938090bdb0e2 button.colab-df-convert');\n",
              "      buttonEl.style.display =\n",
              "        google.colab.kernel.accessAllowed ? 'block' : 'none';\n",
              "\n",
              "      async function convertToInteractive(key) {\n",
              "        const element = document.querySelector('#df-35ed581f-9425-4597-bb11-938090bdb0e2');\n",
              "        const dataTable =\n",
              "          await google.colab.kernel.invokeFunction('convertToInteractive',\n",
              "                                                    [key], {});\n",
              "        if (!dataTable) return;\n",
              "\n",
              "        const docLinkHtml = 'Like what you see? Visit the ' +\n",
              "          '<a target=\"_blank\" href=https://colab.research.google.com/notebooks/data_table.ipynb>data table notebook</a>'\n",
              "          + ' to learn more about interactive tables.';\n",
              "        element.innerHTML = '';\n",
              "        dataTable['output_type'] = 'display_data';\n",
              "        await google.colab.output.renderOutput(dataTable, element);\n",
              "        const docLink = document.createElement('div');\n",
              "        docLink.innerHTML = docLinkHtml;\n",
              "        element.appendChild(docLink);\n",
              "      }\n",
              "    </script>\n",
              "  </div>\n",
              "\n",
              "\n",
              "<div id=\"df-cff20b46-1870-4c4a-841c-638f6d52e44c\">\n",
              "  <button class=\"colab-df-quickchart\" onclick=\"quickchart('df-cff20b46-1870-4c4a-841c-638f6d52e44c')\"\n",
              "            title=\"Suggest charts\"\n",
              "            style=\"display:none;\">\n",
              "\n",
              "<svg xmlns=\"http://www.w3.org/2000/svg\" height=\"24px\"viewBox=\"0 0 24 24\"\n",
              "     width=\"24px\">\n",
              "    <g>\n",
              "        <path d=\"M19 3H5c-1.1 0-2 .9-2 2v14c0 1.1.9 2 2 2h14c1.1 0 2-.9 2-2V5c0-1.1-.9-2-2-2zM9 17H7v-7h2v7zm4 0h-2V7h2v10zm4 0h-2v-4h2v4z\"/>\n",
              "    </g>\n",
              "</svg>\n",
              "  </button>\n",
              "\n",
              "<style>\n",
              "  .colab-df-quickchart {\n",
              "      --bg-color: #E8F0FE;\n",
              "      --fill-color: #1967D2;\n",
              "      --hover-bg-color: #E2EBFA;\n",
              "      --hover-fill-color: #174EA6;\n",
              "      --disabled-fill-color: #AAA;\n",
              "      --disabled-bg-color: #DDD;\n",
              "  }\n",
              "\n",
              "  [theme=dark] .colab-df-quickchart {\n",
              "      --bg-color: #3B4455;\n",
              "      --fill-color: #D2E3FC;\n",
              "      --hover-bg-color: #434B5C;\n",
              "      --hover-fill-color: #FFFFFF;\n",
              "      --disabled-bg-color: #3B4455;\n",
              "      --disabled-fill-color: #666;\n",
              "  }\n",
              "\n",
              "  .colab-df-quickchart {\n",
              "    background-color: var(--bg-color);\n",
              "    border: none;\n",
              "    border-radius: 50%;\n",
              "    cursor: pointer;\n",
              "    display: none;\n",
              "    fill: var(--fill-color);\n",
              "    height: 32px;\n",
              "    padding: 0;\n",
              "    width: 32px;\n",
              "  }\n",
              "\n",
              "  .colab-df-quickchart:hover {\n",
              "    background-color: var(--hover-bg-color);\n",
              "    box-shadow: 0 1px 2px rgba(60, 64, 67, 0.3), 0 1px 3px 1px rgba(60, 64, 67, 0.15);\n",
              "    fill: var(--button-hover-fill-color);\n",
              "  }\n",
              "\n",
              "  .colab-df-quickchart-complete:disabled,\n",
              "  .colab-df-quickchart-complete:disabled:hover {\n",
              "    background-color: var(--disabled-bg-color);\n",
              "    fill: var(--disabled-fill-color);\n",
              "    box-shadow: none;\n",
              "  }\n",
              "\n",
              "  .colab-df-spinner {\n",
              "    border: 2px solid var(--fill-color);\n",
              "    border-color: transparent;\n",
              "    border-bottom-color: var(--fill-color);\n",
              "    animation:\n",
              "      spin 1s steps(1) infinite;\n",
              "  }\n",
              "\n",
              "  @keyframes spin {\n",
              "    0% {\n",
              "      border-color: transparent;\n",
              "      border-bottom-color: var(--fill-color);\n",
              "      border-left-color: var(--fill-color);\n",
              "    }\n",
              "    20% {\n",
              "      border-color: transparent;\n",
              "      border-left-color: var(--fill-color);\n",
              "      border-top-color: var(--fill-color);\n",
              "    }\n",
              "    30% {\n",
              "      border-color: transparent;\n",
              "      border-left-color: var(--fill-color);\n",
              "      border-top-color: var(--fill-color);\n",
              "      border-right-color: var(--fill-color);\n",
              "    }\n",
              "    40% {\n",
              "      border-color: transparent;\n",
              "      border-right-color: var(--fill-color);\n",
              "      border-top-color: var(--fill-color);\n",
              "    }\n",
              "    60% {\n",
              "      border-color: transparent;\n",
              "      border-right-color: var(--fill-color);\n",
              "    }\n",
              "    80% {\n",
              "      border-color: transparent;\n",
              "      border-right-color: var(--fill-color);\n",
              "      border-bottom-color: var(--fill-color);\n",
              "    }\n",
              "    90% {\n",
              "      border-color: transparent;\n",
              "      border-bottom-color: var(--fill-color);\n",
              "    }\n",
              "  }\n",
              "</style>\n",
              "\n",
              "  <script>\n",
              "    async function quickchart(key) {\n",
              "      const quickchartButtonEl =\n",
              "        document.querySelector('#' + key + ' button');\n",
              "      quickchartButtonEl.disabled = true;  // To prevent multiple clicks.\n",
              "      quickchartButtonEl.classList.add('colab-df-spinner');\n",
              "      try {\n",
              "        const charts = await google.colab.kernel.invokeFunction(\n",
              "            'suggestCharts', [key], {});\n",
              "      } catch (error) {\n",
              "        console.error('Error during call to suggestCharts:', error);\n",
              "      }\n",
              "      quickchartButtonEl.classList.remove('colab-df-spinner');\n",
              "      quickchartButtonEl.classList.add('colab-df-quickchart-complete');\n",
              "    }\n",
              "    (() => {\n",
              "      let quickchartButtonEl =\n",
              "        document.querySelector('#df-cff20b46-1870-4c4a-841c-638f6d52e44c button');\n",
              "      quickchartButtonEl.style.display =\n",
              "        google.colab.kernel.accessAllowed ? 'block' : 'none';\n",
              "    })();\n",
              "  </script>\n",
              "</div>\n",
              "\n",
              "    </div>\n",
              "  </div>\n"
            ],
            "application/vnd.google.colaboratory.intrinsic+json": {
              "type": "dataframe",
              "summary": "{\n  \"name\": \"df[df\",\n  \"rows\": 5,\n  \"fields\": [\n    {\n      \"column\": \"user\",\n      \"properties\": {\n        \"dtype\": \"category\",\n        \"num_unique_values\": 1,\n        \"samples\": [\n          \"serenesuniverse\"\n        ],\n        \"semantic_type\": \"\",\n        \"description\": \"\"\n      }\n    },\n    {\n      \"column\": \"id\",\n      \"properties\": {\n        \"dtype\": \"number\",\n        \"std\": 15099028720207688,\n        \"min\": 621761438097494016,\n        \"max\": 655822048908869632,\n        \"num_unique_values\": 5,\n        \"samples\": [\n          646860876109213696\n        ],\n        \"semantic_type\": \"\",\n        \"description\": \"\"\n      }\n    },\n    {\n      \"column\": \"tweet\",\n      \"properties\": {\n        \"dtype\": \"string\",\n        \"num_unique_values\": 5,\n        \"samples\": [\n          \"Meeting Fik-Shun last night was unreal! Being able to go into a room fun of amazing dancers and just\\u2026 https://t.co/N7T9bpKfSX\"\n        ],\n        \"semantic_type\": \"\",\n        \"description\": \"\"\n      }\n    },\n    {\n      \"column\": \"replies\",\n      \"properties\": {\n        \"dtype\": \"number\",\n        \"std\": 0,\n        \"min\": 0,\n        \"max\": 0,\n        \"num_unique_values\": 1,\n        \"samples\": [\n          0\n        ],\n        \"semantic_type\": \"\",\n        \"description\": \"\"\n      }\n    },\n    {\n      \"column\": \"retweets\",\n      \"properties\": {\n        \"dtype\": \"number\",\n        \"std\": 0,\n        \"min\": 0,\n        \"max\": 0,\n        \"num_unique_values\": 1,\n        \"samples\": [\n          0\n        ],\n        \"semantic_type\": \"\",\n        \"description\": \"\"\n      }\n    },\n    {\n      \"column\": \"likes\",\n      \"properties\": {\n        \"dtype\": \"number\",\n        \"std\": 0,\n        \"min\": 0,\n        \"max\": 0,\n        \"num_unique_values\": 1,\n        \"samples\": [\n          0\n        ],\n        \"semantic_type\": \"\",\n        \"description\": \"\"\n      }\n    },\n    {\n      \"column\": \"quotes\",\n      \"properties\": {\n        \"dtype\": \"number\",\n        \"std\": 0,\n        \"min\": 0,\n        \"max\": 0,\n        \"num_unique_values\": 1,\n        \"samples\": [\n          0\n        ],\n        \"semantic_type\": \"\",\n        \"description\": \"\"\n      }\n    },\n    {\n      \"column\": \"date\",\n      \"properties\": {\n        \"dtype\": \"object\",\n        \"num_unique_values\": 5,\n        \"samples\": [\n          \"2015-09-24T01:37:05+00:00\"\n        ],\n        \"semantic_type\": \"\",\n        \"description\": \"\"\n      }\n    },\n    {\n      \"column\": \"year\",\n      \"properties\": {\n        \"dtype\": \"object\",\n        \"num_unique_values\": 1,\n        \"samples\": [\n          \"2015\"\n        ],\n        \"semantic_type\": \"\",\n        \"description\": \"\"\n      }\n    }\n  ]\n}"
            }
          },
          "metadata": {},
          "execution_count": 7
        }
      ]
    },
    {
      "cell_type": "code",
      "source": [
        "df[df.year == \"2019\"].head()"
      ],
      "metadata": {
        "colab": {
          "base_uri": "https://localhost:8080/",
          "height": 206
        },
        "id": "BVmT05uwb35i",
        "outputId": "6b39576e-de13-4758-ca45-bda49425a937"
      },
      "execution_count": 8,
      "outputs": [
        {
          "output_type": "execute_result",
          "data": {
            "text/plain": [
              "                 user                   id  \\\n",
              "20000  MarketOne_Intl  1207244862065504257   \n",
              "20001  MarketOne_Intl  1196734026784133120   \n",
              "20002  MarketOne_Intl  1193909069087723528   \n",
              "20003  MarketOne_Intl  1193908526864879618   \n",
              "20004  MarketOne_Intl  1191730425397420039   \n",
              "\n",
              "                                                   tweet  replies  retweets  \\\n",
              "20000  We need more poems in the world of #B2B - http...        1         0   \n",
              "20001  Right person, right message, right time, right...        0         0   \n",
              "20002  MarketOne is thrilled to announce that we have...        0         1   \n",
              "20003  It was a great talk! #ABM #B2Bconf https://t.c...        0         0   \n",
              "20004            @EmmaMoly @ProductHunt No. It's Giff :)        0         0   \n",
              "\n",
              "       likes  quotes                       date  year  \n",
              "20000      1       0  2019-12-18T10:22:59+00:00  2019  \n",
              "20001      3       0  2019-11-19T10:16:40+00:00  2019  \n",
              "20002      2       1  2019-11-11T15:11:18+00:00  2019  \n",
              "20003      0       0  2019-11-11T15:09:09+00:00  2019  \n",
              "20004      0       0  2019-11-05T14:54:09+00:00  2019  "
            ],
            "text/html": [
              "\n",
              "  <div id=\"df-e52b32a6-a32d-4de8-9dc7-8d5dd565d84c\" class=\"colab-df-container\">\n",
              "    <div>\n",
              "<style scoped>\n",
              "    .dataframe tbody tr th:only-of-type {\n",
              "        vertical-align: middle;\n",
              "    }\n",
              "\n",
              "    .dataframe tbody tr th {\n",
              "        vertical-align: top;\n",
              "    }\n",
              "\n",
              "    .dataframe thead th {\n",
              "        text-align: right;\n",
              "    }\n",
              "</style>\n",
              "<table border=\"1\" class=\"dataframe\">\n",
              "  <thead>\n",
              "    <tr style=\"text-align: right;\">\n",
              "      <th></th>\n",
              "      <th>user</th>\n",
              "      <th>id</th>\n",
              "      <th>tweet</th>\n",
              "      <th>replies</th>\n",
              "      <th>retweets</th>\n",
              "      <th>likes</th>\n",
              "      <th>quotes</th>\n",
              "      <th>date</th>\n",
              "      <th>year</th>\n",
              "    </tr>\n",
              "  </thead>\n",
              "  <tbody>\n",
              "    <tr>\n",
              "      <th>20000</th>\n",
              "      <td>MarketOne_Intl</td>\n",
              "      <td>1207244862065504257</td>\n",
              "      <td>We need more poems in the world of #B2B - http...</td>\n",
              "      <td>1</td>\n",
              "      <td>0</td>\n",
              "      <td>1</td>\n",
              "      <td>0</td>\n",
              "      <td>2019-12-18T10:22:59+00:00</td>\n",
              "      <td>2019</td>\n",
              "    </tr>\n",
              "    <tr>\n",
              "      <th>20001</th>\n",
              "      <td>MarketOne_Intl</td>\n",
              "      <td>1196734026784133120</td>\n",
              "      <td>Right person, right message, right time, right...</td>\n",
              "      <td>0</td>\n",
              "      <td>0</td>\n",
              "      <td>3</td>\n",
              "      <td>0</td>\n",
              "      <td>2019-11-19T10:16:40+00:00</td>\n",
              "      <td>2019</td>\n",
              "    </tr>\n",
              "    <tr>\n",
              "      <th>20002</th>\n",
              "      <td>MarketOne_Intl</td>\n",
              "      <td>1193909069087723528</td>\n",
              "      <td>MarketOne is thrilled to announce that we have...</td>\n",
              "      <td>0</td>\n",
              "      <td>1</td>\n",
              "      <td>2</td>\n",
              "      <td>1</td>\n",
              "      <td>2019-11-11T15:11:18+00:00</td>\n",
              "      <td>2019</td>\n",
              "    </tr>\n",
              "    <tr>\n",
              "      <th>20003</th>\n",
              "      <td>MarketOne_Intl</td>\n",
              "      <td>1193908526864879618</td>\n",
              "      <td>It was a great talk! #ABM #B2Bconf https://t.c...</td>\n",
              "      <td>0</td>\n",
              "      <td>0</td>\n",
              "      <td>0</td>\n",
              "      <td>0</td>\n",
              "      <td>2019-11-11T15:09:09+00:00</td>\n",
              "      <td>2019</td>\n",
              "    </tr>\n",
              "    <tr>\n",
              "      <th>20004</th>\n",
              "      <td>MarketOne_Intl</td>\n",
              "      <td>1191730425397420039</td>\n",
              "      <td>@EmmaMoly @ProductHunt No. It's Giff :)</td>\n",
              "      <td>0</td>\n",
              "      <td>0</td>\n",
              "      <td>0</td>\n",
              "      <td>0</td>\n",
              "      <td>2019-11-05T14:54:09+00:00</td>\n",
              "      <td>2019</td>\n",
              "    </tr>\n",
              "  </tbody>\n",
              "</table>\n",
              "</div>\n",
              "    <div class=\"colab-df-buttons\">\n",
              "\n",
              "  <div class=\"colab-df-container\">\n",
              "    <button class=\"colab-df-convert\" onclick=\"convertToInteractive('df-e52b32a6-a32d-4de8-9dc7-8d5dd565d84c')\"\n",
              "            title=\"Convert this dataframe to an interactive table.\"\n",
              "            style=\"display:none;\">\n",
              "\n",
              "  <svg xmlns=\"http://www.w3.org/2000/svg\" height=\"24px\" viewBox=\"0 -960 960 960\">\n",
              "    <path d=\"M120-120v-720h720v720H120Zm60-500h600v-160H180v160Zm220 220h160v-160H400v160Zm0 220h160v-160H400v160ZM180-400h160v-160H180v160Zm440 0h160v-160H620v160ZM180-180h160v-160H180v160Zm440 0h160v-160H620v160Z\"/>\n",
              "  </svg>\n",
              "    </button>\n",
              "\n",
              "  <style>\n",
              "    .colab-df-container {\n",
              "      display:flex;\n",
              "      gap: 12px;\n",
              "    }\n",
              "\n",
              "    .colab-df-convert {\n",
              "      background-color: #E8F0FE;\n",
              "      border: none;\n",
              "      border-radius: 50%;\n",
              "      cursor: pointer;\n",
              "      display: none;\n",
              "      fill: #1967D2;\n",
              "      height: 32px;\n",
              "      padding: 0 0 0 0;\n",
              "      width: 32px;\n",
              "    }\n",
              "\n",
              "    .colab-df-convert:hover {\n",
              "      background-color: #E2EBFA;\n",
              "      box-shadow: 0px 1px 2px rgba(60, 64, 67, 0.3), 0px 1px 3px 1px rgba(60, 64, 67, 0.15);\n",
              "      fill: #174EA6;\n",
              "    }\n",
              "\n",
              "    .colab-df-buttons div {\n",
              "      margin-bottom: 4px;\n",
              "    }\n",
              "\n",
              "    [theme=dark] .colab-df-convert {\n",
              "      background-color: #3B4455;\n",
              "      fill: #D2E3FC;\n",
              "    }\n",
              "\n",
              "    [theme=dark] .colab-df-convert:hover {\n",
              "      background-color: #434B5C;\n",
              "      box-shadow: 0px 1px 3px 1px rgba(0, 0, 0, 0.15);\n",
              "      filter: drop-shadow(0px 1px 2px rgba(0, 0, 0, 0.3));\n",
              "      fill: #FFFFFF;\n",
              "    }\n",
              "  </style>\n",
              "\n",
              "    <script>\n",
              "      const buttonEl =\n",
              "        document.querySelector('#df-e52b32a6-a32d-4de8-9dc7-8d5dd565d84c button.colab-df-convert');\n",
              "      buttonEl.style.display =\n",
              "        google.colab.kernel.accessAllowed ? 'block' : 'none';\n",
              "\n",
              "      async function convertToInteractive(key) {\n",
              "        const element = document.querySelector('#df-e52b32a6-a32d-4de8-9dc7-8d5dd565d84c');\n",
              "        const dataTable =\n",
              "          await google.colab.kernel.invokeFunction('convertToInteractive',\n",
              "                                                    [key], {});\n",
              "        if (!dataTable) return;\n",
              "\n",
              "        const docLinkHtml = 'Like what you see? Visit the ' +\n",
              "          '<a target=\"_blank\" href=https://colab.research.google.com/notebooks/data_table.ipynb>data table notebook</a>'\n",
              "          + ' to learn more about interactive tables.';\n",
              "        element.innerHTML = '';\n",
              "        dataTable['output_type'] = 'display_data';\n",
              "        await google.colab.output.renderOutput(dataTable, element);\n",
              "        const docLink = document.createElement('div');\n",
              "        docLink.innerHTML = docLinkHtml;\n",
              "        element.appendChild(docLink);\n",
              "      }\n",
              "    </script>\n",
              "  </div>\n",
              "\n",
              "\n",
              "<div id=\"df-7c9692cf-84da-4429-a0f5-9451e249b647\">\n",
              "  <button class=\"colab-df-quickchart\" onclick=\"quickchart('df-7c9692cf-84da-4429-a0f5-9451e249b647')\"\n",
              "            title=\"Suggest charts\"\n",
              "            style=\"display:none;\">\n",
              "\n",
              "<svg xmlns=\"http://www.w3.org/2000/svg\" height=\"24px\"viewBox=\"0 0 24 24\"\n",
              "     width=\"24px\">\n",
              "    <g>\n",
              "        <path d=\"M19 3H5c-1.1 0-2 .9-2 2v14c0 1.1.9 2 2 2h14c1.1 0 2-.9 2-2V5c0-1.1-.9-2-2-2zM9 17H7v-7h2v7zm4 0h-2V7h2v10zm4 0h-2v-4h2v4z\"/>\n",
              "    </g>\n",
              "</svg>\n",
              "  </button>\n",
              "\n",
              "<style>\n",
              "  .colab-df-quickchart {\n",
              "      --bg-color: #E8F0FE;\n",
              "      --fill-color: #1967D2;\n",
              "      --hover-bg-color: #E2EBFA;\n",
              "      --hover-fill-color: #174EA6;\n",
              "      --disabled-fill-color: #AAA;\n",
              "      --disabled-bg-color: #DDD;\n",
              "  }\n",
              "\n",
              "  [theme=dark] .colab-df-quickchart {\n",
              "      --bg-color: #3B4455;\n",
              "      --fill-color: #D2E3FC;\n",
              "      --hover-bg-color: #434B5C;\n",
              "      --hover-fill-color: #FFFFFF;\n",
              "      --disabled-bg-color: #3B4455;\n",
              "      --disabled-fill-color: #666;\n",
              "  }\n",
              "\n",
              "  .colab-df-quickchart {\n",
              "    background-color: var(--bg-color);\n",
              "    border: none;\n",
              "    border-radius: 50%;\n",
              "    cursor: pointer;\n",
              "    display: none;\n",
              "    fill: var(--fill-color);\n",
              "    height: 32px;\n",
              "    padding: 0;\n",
              "    width: 32px;\n",
              "  }\n",
              "\n",
              "  .colab-df-quickchart:hover {\n",
              "    background-color: var(--hover-bg-color);\n",
              "    box-shadow: 0 1px 2px rgba(60, 64, 67, 0.3), 0 1px 3px 1px rgba(60, 64, 67, 0.15);\n",
              "    fill: var(--button-hover-fill-color);\n",
              "  }\n",
              "\n",
              "  .colab-df-quickchart-complete:disabled,\n",
              "  .colab-df-quickchart-complete:disabled:hover {\n",
              "    background-color: var(--disabled-bg-color);\n",
              "    fill: var(--disabled-fill-color);\n",
              "    box-shadow: none;\n",
              "  }\n",
              "\n",
              "  .colab-df-spinner {\n",
              "    border: 2px solid var(--fill-color);\n",
              "    border-color: transparent;\n",
              "    border-bottom-color: var(--fill-color);\n",
              "    animation:\n",
              "      spin 1s steps(1) infinite;\n",
              "  }\n",
              "\n",
              "  @keyframes spin {\n",
              "    0% {\n",
              "      border-color: transparent;\n",
              "      border-bottom-color: var(--fill-color);\n",
              "      border-left-color: var(--fill-color);\n",
              "    }\n",
              "    20% {\n",
              "      border-color: transparent;\n",
              "      border-left-color: var(--fill-color);\n",
              "      border-top-color: var(--fill-color);\n",
              "    }\n",
              "    30% {\n",
              "      border-color: transparent;\n",
              "      border-left-color: var(--fill-color);\n",
              "      border-top-color: var(--fill-color);\n",
              "      border-right-color: var(--fill-color);\n",
              "    }\n",
              "    40% {\n",
              "      border-color: transparent;\n",
              "      border-right-color: var(--fill-color);\n",
              "      border-top-color: var(--fill-color);\n",
              "    }\n",
              "    60% {\n",
              "      border-color: transparent;\n",
              "      border-right-color: var(--fill-color);\n",
              "    }\n",
              "    80% {\n",
              "      border-color: transparent;\n",
              "      border-right-color: var(--fill-color);\n",
              "      border-bottom-color: var(--fill-color);\n",
              "    }\n",
              "    90% {\n",
              "      border-color: transparent;\n",
              "      border-bottom-color: var(--fill-color);\n",
              "    }\n",
              "  }\n",
              "</style>\n",
              "\n",
              "  <script>\n",
              "    async function quickchart(key) {\n",
              "      const quickchartButtonEl =\n",
              "        document.querySelector('#' + key + ' button');\n",
              "      quickchartButtonEl.disabled = true;  // To prevent multiple clicks.\n",
              "      quickchartButtonEl.classList.add('colab-df-spinner');\n",
              "      try {\n",
              "        const charts = await google.colab.kernel.invokeFunction(\n",
              "            'suggestCharts', [key], {});\n",
              "      } catch (error) {\n",
              "        console.error('Error during call to suggestCharts:', error);\n",
              "      }\n",
              "      quickchartButtonEl.classList.remove('colab-df-spinner');\n",
              "      quickchartButtonEl.classList.add('colab-df-quickchart-complete');\n",
              "    }\n",
              "    (() => {\n",
              "      let quickchartButtonEl =\n",
              "        document.querySelector('#df-7c9692cf-84da-4429-a0f5-9451e249b647 button');\n",
              "      quickchartButtonEl.style.display =\n",
              "        google.colab.kernel.accessAllowed ? 'block' : 'none';\n",
              "    })();\n",
              "  </script>\n",
              "</div>\n",
              "\n",
              "    </div>\n",
              "  </div>\n"
            ],
            "application/vnd.google.colaboratory.intrinsic+json": {
              "type": "dataframe",
              "repr_error": "0"
            }
          },
          "metadata": {},
          "execution_count": 8
        }
      ]
    },
    {
      "cell_type": "code",
      "source": [
        "# now create seperate similarity graohs for each year\n",
        "g15 = build_embedding_graph_from_df(df[df.year == \"2015\"], min_freq=10)\n",
        "g16 = build_embedding_graph_from_df(df[df.year == \"2016\"], min_freq=10)\n",
        "g17 = build_embedding_graph_from_df(df[df.year == \"2017\"], min_freq=10)\n",
        "g18 = build_embedding_graph_from_df(df[df.year == \"2018\"], min_freq=10)\n",
        "g19 = build_embedding_graph_from_df(df[df.year == \"2019\"], min_freq=10)\n",
        "g20 = build_embedding_graph_from_df(df[df.year == \"2020\"], min_freq=10)\n",
        "g21 = build_embedding_graph_from_df(df[df.year == \"2021\"], min_freq=10)\n",
        "g22 = build_embedding_graph_from_df(df[df.year == \"2022\"], min_freq=10)\n",
        "g23 = build_embedding_graph_from_df(df[df.year == \"2023\"], min_freq=10)"
      ],
      "metadata": {
        "colab": {
          "base_uri": "https://localhost:8080/"
        },
        "id": "-5LGHAPfBJYw",
        "outputId": "c7d77ed2-a1a0-48f1-aba0-11da60ead22b"
      },
      "execution_count": 15,
      "outputs": [
        {
          "output_type": "stream",
          "name": "stderr",
          "text": [
            "100%|██████████| 628/628 [01:36<00:00,  6.47it/s]\n",
            "100%|██████████| 629/629 [01:34<00:00,  6.65it/s]\n",
            "100%|██████████| 585/585 [01:27<00:00,  6.70it/s]\n",
            "100%|██████████| 795/795 [02:02<00:00,  6.49it/s]\n",
            "100%|██████████| 837/837 [02:07<00:00,  6.55it/s]\n",
            "100%|██████████| 845/845 [02:09<00:00,  6.53it/s]\n",
            "100%|██████████| 813/813 [02:07<00:00,  6.40it/s]\n",
            "100%|██████████| 812/812 [01:59<00:00,  6.77it/s]\n",
            "100%|██████████| 618/618 [01:34<00:00,  6.55it/s]\n"
          ]
        }
      ]
    },
    {
      "cell_type": "code",
      "source": [
        "# save sim graphs\n",
        "nx.write_graphml(g15, \"graph_2015.graphml\")\n",
        "nx.write_graphml(g16, \"graph_2016.graphml\")\n",
        "nx.write_graphml(g17, \"graph_2017.graphml\")\n",
        "nx.write_graphml(g18, \"graph_2018.graphml\")\n",
        "nx.write_graphml(g19, \"graph_2019.graphml\")\n",
        "nx.write_graphml(g20, \"graph_2020.graphml\")\n",
        "nx.write_graphml(g21, \"graph_2021.graphml\")\n",
        "nx.write_graphml(g22, \"graph_2022.graphml\")\n",
        "nx.write_graphml(g23, \"graph_2023.graphml\")"
      ],
      "metadata": {
        "id": "x9F4SV7CMKD3"
      },
      "execution_count": 16,
      "outputs": []
    },
    {
      "cell_type": "code",
      "source": [
        "# now build co-occurence graphs for each year\n",
        "gc15 = build_cooccurrence_graph(df[df.year == \"2015\"], min_freq=10)\n",
        "gc16 = build_cooccurrence_graph(df[df.year == \"2016\"], min_freq=10)\n",
        "gc17 = build_cooccurrence_graph(df[df.year == \"2017\"], min_freq=10)\n",
        "gc18 = build_cooccurrence_graph(df[df.year == \"2018\"], min_freq=10)\n",
        "gc19 = build_cooccurrence_graph(df[df.year == \"2019\"], min_freq=10)\n",
        "gc20 = build_cooccurrence_graph(df[df.year == \"2020\"], min_freq=10)\n",
        "gc21 = build_cooccurrence_graph(df[df.year == \"2021\"], min_freq=10)\n",
        "gc22 = build_cooccurrence_graph(df[df.year == \"2022\"], min_freq=10)\n",
        "gc23 = build_cooccurrence_graph(df[df.year == \"2023\"], min_freq=10)"
      ],
      "metadata": {
        "id": "ngpxRcJ6JBwr"
      },
      "execution_count": 17,
      "outputs": []
    },
    {
      "cell_type": "code",
      "source": [
        "# save co-occurence graphs\n",
        "nx.write_graphml(gc15, \"cgraph_2015.graphml\")\n",
        "nx.write_graphml(gc16, \"cgraph_2016.graphml\")\n",
        "nx.write_graphml(gc17, \"cgraph_2017.graphml\")\n",
        "nx.write_graphml(gc18, \"cgraph_2018.graphml\")\n",
        "nx.write_graphml(gc19, \"cgraph_2019.graphml\")\n",
        "nx.write_graphml(gc20, \"cgraph_2020.graphml\")\n",
        "nx.write_graphml(gc21, \"cgraph_2021.graphml\")\n",
        "nx.write_graphml(gc22, \"cgraph_2022.graphml\")\n",
        "nx.write_graphml(gc23, \"cgraph_2023.graphml\")"
      ],
      "metadata": {
        "id": "M7Z5f59BPR4K"
      },
      "execution_count": 18,
      "outputs": []
    },
    {
      "cell_type": "markdown",
      "source": [
        "The remainder of this notebook is just some exploration of the graphs to see what is interesting and can be useful to show in the actual user-interface section (or the app - of sorts)."
      ],
      "metadata": {
        "id": "xnYGa87GEwDD"
      }
    },
    {
      "cell_type": "code",
      "source": [
        "# g15.number_of_nodes()\n",
        "\n",
        "centrality = nx.degree_centrality(g15)\n",
        "top_words = sorted(centrality.items(), key=lambda x: x[1], reverse=True)[:10]\n",
        "print(\"Most central words:\", top_words)"
      ],
      "metadata": {
        "colab": {
          "base_uri": "https://localhost:8080/"
        },
        "id": "nEFfD5hR_bbH",
        "outputId": "4be7157e-d088-4d58-c074-3f379cc6ba7b"
      },
      "execution_count": 19,
      "outputs": [
        {
          "output_type": "stream",
          "name": "stdout",
          "text": [
            "Most central words: [('know', 0.02711323763955343), ('think', 0.022328548644338118), ('auch', 0.02073365231259968), ('next', 0.02073365231259968), ('ist', 0.017543859649122806), ('really', 0.017543859649122806), ('way', 0.017543859649122806), ('check', 0.01594896331738437), ('great', 0.01594896331738437), ('noch', 0.01594896331738437)]\n"
          ]
        }
      ]
    },
    {
      "cell_type": "code",
      "source": [
        "centrality = nx.degree_centrality(g23)\n",
        "top_words = sorted(centrality.items(), key=lambda x: x[1], reverse=True)[:10]\n",
        "print(\"Most central words:\", top_words)"
      ],
      "metadata": {
        "colab": {
          "base_uri": "https://localhost:8080/"
        },
        "id": "dT-CXKgWFsEk",
        "outputId": "c9646537-383e-459d-f5fd-bd7d2e578ea1"
      },
      "execution_count": 20,
      "outputs": [
        {
          "output_type": "stream",
          "name": "stdout",
          "text": [
            "Most central words: [('next', 0.027552674230145867), ('know', 0.022690437601296597), ('think', 0.022690437601296597), ('first', 0.01944894651539708), ('take', 0.01944894651539708), ('let', 0.017828200972447326), ('check', 0.01620745542949757), ('last', 0.01620745542949757), ('really', 0.01458670988654781), ('way', 0.01458670988654781)]\n"
          ]
        }
      ]
    },
    {
      "cell_type": "code",
      "source": [
        "communities = list(greedy_modularity_communities(g15))\n",
        "for i, comm in enumerate(communities[:5]):\n",
        "    print(f\"Community {i+1}: {list(comm)[:10]}\")"
      ],
      "metadata": {
        "colab": {
          "base_uri": "https://localhost:8080/"
        },
        "id": "rj_2KOIx2Ufm",
        "outputId": "e958043d-40c1-4ccf-f994-8397668044eb"
      },
      "execution_count": 21,
      "outputs": [
        {
          "output_type": "stream",
          "name": "stdout",
          "text": [
            "Community 1: ['american', 'lord', 'pretty', 'friday', 'greeting', 'good', 'god', 'fun', 'late', 'amazing']\n",
            "Community 2: ['feel', 'past', 'even', 'miss', 'bad', 'seem', 'may', 'think', 'remember', 'able']\n",
            "Community 3: ['high', 'follow', 'move', 'support', 'winner', 'team', 'please', 'tell', 'basketball', 'enter']\n",
            "Community 4: ['product', 'health', 'partner', 'relationship', 'company', 'family', 'education', 'exclusive', 'new', 'service']\n",
            "Community 5: ['dans', 'fait', 'send', 'encore', 'à', 'au', 'plus', 'ce', 'il', 'pas']\n"
          ]
        }
      ]
    },
    {
      "cell_type": "code",
      "source": [
        "communities = list(greedy_modularity_communities(g23))\n",
        "for i, comm in enumerate(communities[:5]):\n",
        "    print(f\"Community {i+1}: {list(comm)[:10]}\")"
      ],
      "metadata": {
        "colab": {
          "base_uri": "https://localhost:8080/"
        },
        "id": "bW4dc0n6F-VV",
        "outputId": "4b7df4bd-6b57-4ad6-89f3-7701b8057ffb"
      },
      "execution_count": 22,
      "outputs": [
        {
          "output_type": "stream",
          "name": "stdout",
          "text": [
            "Community 1: ['high', 'next', 'part', 'schedule', 'lead', 'distance', 'second', 'series', 'point', 'new']\n",
            "Community 2: ['push', 'ahead', 'follow', 'instant', 'move', 'support', 'please', 'save', 'across', 'hand']\n",
            "Community 3: ['system', 'global', 'technology', 'museum', 'company', 'service', 'conference', 'startup', 'developer', 'digital']\n",
            "Community 4: ['click', 'foundation', 'governance', 'entry', 'workshop', 'update', 'news', 'check', 'deal', 'available']\n",
            "Community 5: ['bad', 'home', 'excellent', 'good', 'late', 'hard', 'amazing', 'tonight', 'work', 'enjoy']\n"
          ]
        }
      ]
    },
    {
      "cell_type": "code",
      "source": [
        "path = nx.shortest_path(g15, source=\"work\", target=\"day\", weight=\"weight\")\n",
        "print(\"Path:\", path)\n",
        "\n",
        "path = nx.shortest_path(g20, source=\"work\", target=\"day\", weight=\"weight\")\n",
        "print(\"Path:\", path)\n"
      ],
      "metadata": {
        "colab": {
          "base_uri": "https://localhost:8080/"
        },
        "id": "AtTWq2SB2WuT",
        "outputId": "0129bba1-7aeb-47ff-db9a-662bfe692377"
      },
      "execution_count": 23,
      "outputs": [
        {
          "output_type": "stream",
          "name": "stdout",
          "text": [
            "Path: ['work', 'today', 'day']\n",
            "Path: ['work', 'today', 'day']\n"
          ]
        }
      ]
    },
    {
      "cell_type": "code",
      "source": [
        "# Select top N central nodes\n",
        "N = 40\n",
        "top_nodes = sorted(centrality.items(), key=lambda x: x[1], reverse=True)[:N]\n",
        "top_node_names = [n for n, _ in top_nodes]\n",
        "subG = g15.subgraph(top_node_names)\n",
        "\n",
        "plt.figure(figsize=(12, 10))\n",
        "pos = nx.spring_layout(subG, seed=42)\n",
        "node_color = [centrality[n] for n in subG.nodes()]\n",
        "nx.draw_networkx(\n",
        "    subG, pos,\n",
        "    node_color=node_color,\n",
        "    cmap=plt.cm.cool,\n",
        "    with_labels=True,\n",
        "    node_size=300,\n",
        "    font_size=12,\n",
        "    edge_color='gray'\n",
        ")\n",
        "plt.title(\"Top 40 Central Words (based on Degree Centrality)\")\n",
        "plt.axis('off')\n",
        "plt.show()\n"
      ],
      "metadata": {
        "colab": {
          "base_uri": "https://localhost:8080/",
          "height": 829
        },
        "id": "7mHgOkhf2rtg",
        "outputId": "44e30959-65b2-44cf-dd24-b2a41b753cf1"
      },
      "execution_count": 24,
      "outputs": [
        {
          "output_type": "display_data",
          "data": {
            "text/plain": [
              "<Figure size 1200x1000 with 1 Axes>"
            ],
            "image/png": "[encoded data removed]"
          },
          "metadata": {}
        }
      ]
    },
    {
      "cell_type": "code",
      "source": [
        "N = 40\n",
        "top_nodes = sorted(centrality.items(), key=lambda x: x[1], reverse=True)[:N]\n",
        "top_node_names = [n for n, _ in top_nodes]\n",
        "subG = g23.subgraph(top_node_names)\n",
        "\n",
        "plt.figure(figsize=(12, 10))\n",
        "pos = nx.spring_layout(subG, seed=42)\n",
        "node_color = [centrality[n] for n in subG.nodes()]\n",
        "nx.draw_networkx(\n",
        "    subG, pos,\n",
        "    node_color=node_color,\n",
        "    cmap=plt.cm.cool,\n",
        "    with_labels=True,\n",
        "    node_size=300,\n",
        "    font_size=12,\n",
        "    edge_color='gray'\n",
        ")\n",
        "plt.title(\"Top 40 Central Words (based on Degree Centrality)\")\n",
        "plt.axis('off')\n",
        "plt.show()\n"
      ],
      "metadata": {
        "colab": {
          "base_uri": "https://localhost:8080/",
          "height": 829
        },
        "id": "SLMbf1YNGR8l",
        "outputId": "399d7d74-e3cb-4401-e11c-3d70f416fc94"
      },
      "execution_count": 25,
      "outputs": [
        {
          "output_type": "display_data",
          "data": {
            "text/plain": [
              "<Figure size 1200x1000 with 1 Axes>"
            ],
            "image/png": "[encoded data removed]"
          },
          "metadata": {}
        }
      ]
    }
  ]
}